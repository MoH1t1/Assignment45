{
  "metadata": {
    "kernelspec": {
      "name": "python",
      "display_name": "Python (Pyodide)",
      "language": "python"
    },
    "language_info": {
      "codemirror_mode": {
        "name": "python",
        "version": 3
      },
      "file_extension": ".py",
      "mimetype": "text/x-python",
      "name": "python",
      "nbconvert_exporter": "python",
      "pygments_lexer": "ipython3",
      "version": "3.8"
    }
  },
  "nbformat_minor": 4,
  "nbformat": 4,
  "cells": [
    {
      "cell_type": "code",
      "source": "# Q1. Explain the difference between simple linear regression and multiple linear regression. Provide an # example of each.\n\nSimple Linear Regression: Models the relationship between one independent variable (X) and a dependent variable (Y).Example: Predicting house price (Y) based on size (X).\n\nMultiple Linear Regression: Models the relationship between two or more independent variables (\nX1, X2, ...) and a dependent variable (Y). Example: Predicting house price (Y) based on size (X1),number of bedrooms (X2) and location (X3)\n\n# Q2. Discuss the assumptions of linear regression. How can you check whether these assumptions hold in a given dataset?\n\nAssumptions of Linear Regression:\n\nLinearity: The relationship between independent and dependent variables is linear. Check with scatterplots or residual plots.\nIndependence: Observations are independent of each other. Check study design or use the Durbin-Watson test for autocorrelation.\nHomoscedasticity: Constant variance of residuals. Check with residual vs. fitted value plots.\nNormality of Residuals: Residuals are normally distributed. Check with a Q-Q plot or Shapiro-Wilk test.\nNo Multicollinearity: Independent variables should not be highly correlated. Check with VIF (Variance Inflation Factor).\n\n# Q3. How do you interpret the slope and intercept in a linear regression model? Provide an example using a real-world scenario.\n\nInterpreting Slope and Intercept in Linear Regression\nIntercept (b0): Value of Y when X = 0.\nSlope (b1): Change in Y for a one-unit increase in X\n\nExample: In a model predicting monthly sales (Y) based on advertising spend (X):\nb0 = 500: Sales when no advertising is done.\nb1 = 20: For every $1 increase in advertising, sales increase by $20.\n\n# Q4. Explain the concept of gradient descent. How is it used in machine learning?\n\nAn optimization algorithm used to minimize the loss function by iteratively updating parameters (weights) in the direction of the negative gradient.\nUse in ML: Finds optimal parameters for models like linear regression, logistic regression, and neural networks.\n\n\n# Q5. Describe the multiple linear regression model. How does it differ from simple linear regression?\n\nThe multiple linear regression model describes the relationship between one dependent variable (Y) and two or more independent variables (\nX1, X2, X3 ... Xk). The model is represented as: Y = b0 + b1X1 + b2X2 + ... + bkXk + ϵ\n\nWhere:\nY: Dependent variable (outcome).\nX1, X2, X3 ... Xk: Independent variables (predictors).\nb0: Intercept, representing Y when all Xi = 0.\nb1,b2,…,bk: Coefficients, representing the change in Y for a one-unit increase in Xi, holding other variables constant.\nϵ: Error term, accounting for variability not explained by the predictors.\n\nDifferences Between Simple and Multiple Linear Regression\n\nNumber of Predictors:\nSimple: One independent variable.\nMultiple: Two or more independent variables.\n\nComplexity:\nSimple: Models a single relationship.\nMultiple: Captures interactions between multiple factors.\n\nPurpose:\nSimple: Understand effect of one variable on Y.\nMultiple: Understand combined effects of several variables on Y.\n\nApplication:\nSimple: Basic scenarios (e.g., predicting sales from ads).\nMultiple: Complex scenarios (e.g., predicting sales from ads, price, and location).\n    \n# Q6. Explain the concept of multicollinearity in multiple linear regression. How can you detect and address this issue?\n\nOccurs when independent variables are highly correlated, leading to unreliable coefficient estimates.\n\nDetection:\nHigh Variance Inflation Factor (VIF > 10).\nCorrelation matrix with high correlations between predictors.\n    \nAddressing:\nRemove or combine correlated variables.\nUse regularization techniques (e.g., Ridge or Lasso regression).\n\n# Q7. Describe the polynomial regression model. How is it different from linear regression?\n\nPolynomial regression is an extension of linear regression that models the relationship between the dependent variable (Y) and the independent variable (X) as an \nn-degree polynomial.\n\nDifferences:\n\nRelationship:\nLinear: Assumes a straight-line relationship between X and Y.\nPolynomial: Captures non-linear relationships between X and Y.\n\nFlexibility:\nLinear: Limited to modeling linear trends.\nPolynomial: Can model complex, non-linear patterns.\n\nInterpretability:\nLinear: Simple and easy to interpret.\nPolynomial: Becomes complex with higher-degree terms.\n\nOverfitting:\nLinear: Lower risk of overfitting.\nPolynomial: Higher risk of overfitting, especially with high-degree polynomials.\n\n# Q8. What are the advantages and disadvantages of polynomial regression compared to linear regression? In what situations would you prefer to use polynomial regression?\n\nAdvantages:\n\nCaptures non-linear patterns in data.\nMore flexible than linear regression.\nDisadvantages:\n\nProne to overfitting, especially for high-degree polynomials.\nMay require more computational effort.\nWhen to Use:\n\nUse when the relationship between variables is non-linear and cannot be well-represented by a straight line.\n",
      "metadata": {
        "trusted": true
      },
      "outputs": [],
      "execution_count": null
    },
    {
      "cell_type": "code",
      "source": "",
      "metadata": {
        "trusted": true
      },
      "outputs": [],
      "execution_count": null
    },
    {
      "cell_type": "code",
      "source": "",
      "metadata": {
        "trusted": true
      },
      "outputs": [],
      "execution_count": null
    },
    {
      "cell_type": "code",
      "source": "",
      "metadata": {
        "trusted": true
      },
      "outputs": [],
      "execution_count": null
    }
  ]
}